{
 "cells": [
  {
   "cell_type": "code",
   "execution_count": 1,
   "id": "88244a1a-7e58-4102-a7fc-d6969fa974cd",
   "metadata": {},
   "outputs": [
    {
     "name": "stdout",
     "output_type": "stream",
     "text": [
      "Requirement already satisfied: load_MySQL in c:\\users\\meetp\\appdata\\local\\packages\\pythonsoftwarefoundation.python.3.11_qbz5n2kfra8p0\\localcache\\local-packages\\python311\\site-packages (0.1)\n",
      "Requirement already satisfied: ensure==1.0.2 in c:\\users\\meetp\\appdata\\local\\packages\\pythonsoftwarefoundation.python.3.11_qbz5n2kfra8p0\\localcache\\local-packages\\python311\\site-packages (from load_MySQL) (1.0.2)\n",
      "Requirement already satisfied: py-youtube==1.1.7 in c:\\users\\meetp\\appdata\\local\\packages\\pythonsoftwarefoundation.python.3.11_qbz5n2kfra8p0\\localcache\\local-packages\\python311\\site-packages (from load_MySQL) (1.1.7)\n",
      "Requirement already satisfied: six>=1.11.0 in c:\\users\\meetp\\appdata\\local\\packages\\pythonsoftwarefoundation.python.3.11_qbz5n2kfra8p0\\localcache\\local-packages\\python311\\site-packages (from ensure==1.0.2->load_MySQL) (1.16.0)\n",
      "Note: you may need to restart the kernel to use updated packages.\n"
     ]
    }
   ],
   "source": [
    "pip install load_MySQL"
   ]
  },
  {
   "cell_type": "code",
   "execution_count": 2,
   "id": "ac56cea8-7b5f-476a-be8d-21fd4010bcbe",
   "metadata": {},
   "outputs": [],
   "source": [
    "from sql_connect.MySQL import MySQLOperation"
   ]
  },
  {
   "cell_type": "markdown",
   "id": "f1bff8b7-74c8-4f5c-a90a-a8f00ab94a62",
   "metadata": {},
   "source": [
    "## "
   ]
  },
  {
   "cell_type": "markdown",
   "id": "1fd36254-ad0f-4ef6-aeeb-92fc4fd24610",
   "metadata": {},
   "source": [
    "#### Database Credentials"
   ]
  },
  {
   "cell_type": "code",
   "execution_count": 3,
   "id": "5a97d821-5e76-4a37-931f-133aefeb8214",
   "metadata": {},
   "outputs": [
    {
     "name": "stdout",
     "output_type": "stream",
     "text": [
      "Connected to the MySQL database\n"
     ]
    }
   ],
   "source": [
    "db = MySQLOperation(host=\"localhost\", user=\"root\", password=\"1234\", database=\"meet\")\n",
    "db.connect()"
   ]
  },
  {
   "cell_type": "markdown",
   "id": "e55b3cce-f2c2-4baf-ad49-756d2f9a2764",
   "metadata": {},
   "source": [
    "## "
   ]
  },
  {
   "cell_type": "markdown",
   "id": "3e59ad35-70ed-4839-8e4c-c35fd536de1e",
   "metadata": {},
   "source": [
    "#### Running any Select query"
   ]
  },
  {
   "cell_type": "code",
   "execution_count": 4,
   "id": "945d0f95-6ca1-4317-956f-c6fc30523bc6",
   "metadata": {
    "scrolled": true
   },
   "outputs": [
    {
     "data": {
      "text/html": [
       "<div>\n",
       "<style scoped>\n",
       "    .dataframe tbody tr th:only-of-type {\n",
       "        vertical-align: middle;\n",
       "    }\n",
       "\n",
       "    .dataframe tbody tr th {\n",
       "        vertical-align: top;\n",
       "    }\n",
       "\n",
       "    .dataframe thead th {\n",
       "        text-align: right;\n",
       "    }\n",
       "</style>\n",
       "<table border=\"1\" class=\"dataframe\">\n",
       "  <thead>\n",
       "    <tr style=\"text-align: right;\">\n",
       "      <th></th>\n",
       "      <th>id</th>\n",
       "      <th>name</th>\n",
       "      <th>class</th>\n",
       "      <th>mark</th>\n",
       "      <th>gender</th>\n",
       "    </tr>\n",
       "  </thead>\n",
       "  <tbody>\n",
       "    <tr>\n",
       "      <th>32</th>\n",
       "      <td>33</td>\n",
       "      <td>Kenn Rein</td>\n",
       "      <td>Six</td>\n",
       "      <td>96</td>\n",
       "      <td>female</td>\n",
       "    </tr>\n",
       "    <tr>\n",
       "      <th>33</th>\n",
       "      <td>34</td>\n",
       "      <td>Gain Toe</td>\n",
       "      <td>Seven</td>\n",
       "      <td>69</td>\n",
       "      <td>male</td>\n",
       "    </tr>\n",
       "    <tr>\n",
       "      <th>34</th>\n",
       "      <td>35</td>\n",
       "      <td>Rows Noump</td>\n",
       "      <td>Six</td>\n",
       "      <td>88</td>\n",
       "      <td>female</td>\n",
       "    </tr>\n",
       "    <tr>\n",
       "      <th>35</th>\n",
       "      <td>36</td>\n",
       "      <td>stephan</td>\n",
       "      <td>Seven</td>\n",
       "      <td>83</td>\n",
       "      <td>male</td>\n",
       "    </tr>\n",
       "    <tr>\n",
       "      <th>36</th>\n",
       "      <td>37</td>\n",
       "      <td>roman</td>\n",
       "      <td>Six</td>\n",
       "      <td>65</td>\n",
       "      <td>male</td>\n",
       "    </tr>\n",
       "  </tbody>\n",
       "</table>\n",
       "</div>"
      ],
      "text/plain": [
       "    id        name  class  mark  gender\n",
       "32  33   Kenn Rein    Six    96  female\n",
       "33  34    Gain Toe  Seven    69    male\n",
       "34  35  Rows Noump    Six    88  female\n",
       "35  36     stephan  Seven    83    male\n",
       "36  37       roman    Six    65    male"
      ]
     },
     "execution_count": 4,
     "metadata": {},
     "output_type": "execute_result"
    }
   ],
   "source": [
    "query1 = \"SELECT * FROM student\"\n",
    "student_records_df = db.execute_query(query1)\n",
    "student_records_df.tail()"
   ]
  },
  {
   "cell_type": "markdown",
   "id": "62955ccc-38e3-41f8-a77b-19b0de04a5a4",
   "metadata": {},
   "source": [
    "- select query is stored in pandas DataFrame to perform all the analysis using python"
   ]
  },
  {
   "cell_type": "markdown",
   "id": "a1a7ad17-797a-4118-acd8-6a5c1e3da5f4",
   "metadata": {},
   "source": [
    "## "
   ]
  },
  {
   "cell_type": "code",
   "execution_count": 5,
   "id": "daefd5c8-a483-44c2-9428-7f13d1bb841b",
   "metadata": {},
   "outputs": [
    {
     "data": {
      "text/html": [
       "<div>\n",
       "<style scoped>\n",
       "    .dataframe tbody tr th:only-of-type {\n",
       "        vertical-align: middle;\n",
       "    }\n",
       "\n",
       "    .dataframe tbody tr th {\n",
       "        vertical-align: top;\n",
       "    }\n",
       "\n",
       "    .dataframe thead th {\n",
       "        text-align: right;\n",
       "    }\n",
       "</style>\n",
       "<table border=\"1\" class=\"dataframe\">\n",
       "  <thead>\n",
       "    <tr style=\"text-align: right;\">\n",
       "      <th></th>\n",
       "    </tr>\n",
       "  </thead>\n",
       "  <tbody>\n",
       "  </tbody>\n",
       "</table>\n",
       "</div>"
      ],
      "text/plain": [
       "Empty DataFrame\n",
       "Columns: []\n",
       "Index: []"
      ]
     },
     "execution_count": 5,
     "metadata": {},
     "output_type": "execute_result"
    }
   ],
   "source": [
    "query1 = \"\"\"\n",
    "CREATE TABLE IF NOT EXISTS temp_table (\n",
    "    id INT,\n",
    "    name VARCHAR(255),\n",
    "    class VARCHAR(255),\n",
    "    mark INT,\n",
    "    gender VARCHAR(255)\n",
    ")\n",
    "\"\"\"\n",
    "db.execute_query(query1)"
   ]
  },
  {
   "cell_type": "markdown",
   "id": "eb8ae4a9-7da5-42c6-91db-49ee9a45fd69",
   "metadata": {},
   "source": [
    "#### More Select Queries"
   ]
  },
  {
   "cell_type": "code",
   "execution_count": 6,
   "id": "f5ef53af-f28b-46ab-9980-d61a0bed0b9d",
   "metadata": {},
   "outputs": [
    {
     "data": {
      "text/html": [
       "<div>\n",
       "<style scoped>\n",
       "    .dataframe tbody tr th:only-of-type {\n",
       "        vertical-align: middle;\n",
       "    }\n",
       "\n",
       "    .dataframe tbody tr th {\n",
       "        vertical-align: top;\n",
       "    }\n",
       "\n",
       "    .dataframe thead th {\n",
       "        text-align: right;\n",
       "    }\n",
       "</style>\n",
       "<table border=\"1\" class=\"dataframe\">\n",
       "  <thead>\n",
       "    <tr style=\"text-align: right;\">\n",
       "      <th></th>\n",
       "      <th>id</th>\n",
       "      <th>name</th>\n",
       "      <th>class</th>\n",
       "      <th>mark</th>\n",
       "      <th>gender</th>\n",
       "    </tr>\n",
       "  </thead>\n",
       "  <tbody>\n",
       "    <tr>\n",
       "      <th>0</th>\n",
       "      <td>12</td>\n",
       "      <td>Recky</td>\n",
       "      <td>Six</td>\n",
       "      <td>94</td>\n",
       "      <td>female</td>\n",
       "    </tr>\n",
       "    <tr>\n",
       "      <th>1</th>\n",
       "      <td>33</td>\n",
       "      <td>Kenn Rein</td>\n",
       "      <td>Six</td>\n",
       "      <td>96</td>\n",
       "      <td>female</td>\n",
       "    </tr>\n",
       "  </tbody>\n",
       "</table>\n",
       "</div>"
      ],
      "text/plain": [
       "   id       name class  mark  gender\n",
       "0  12      Recky   Six    94  female\n",
       "1  33  Kenn Rein   Six    96  female"
      ]
     },
     "execution_count": 6,
     "metadata": {},
     "output_type": "execute_result"
    }
   ],
   "source": [
    "query1 = \"\"\"\n",
    "SELECT * \n",
    "FROM student\n",
    "Where mark > 90\n",
    "\"\"\"\n",
    "student_records_df = db.execute_query(query1)\n",
    "student_records_df"
   ]
  },
  {
   "cell_type": "code",
   "execution_count": 7,
   "id": "d7f4bf29-a177-4a2f-bc58-5c3571255861",
   "metadata": {},
   "outputs": [
    {
     "data": {
      "text/html": [
       "<div>\n",
       "<style scoped>\n",
       "    .dataframe tbody tr th:only-of-type {\n",
       "        vertical-align: middle;\n",
       "    }\n",
       "\n",
       "    .dataframe tbody tr th {\n",
       "        vertical-align: top;\n",
       "    }\n",
       "\n",
       "    .dataframe thead th {\n",
       "        text-align: right;\n",
       "    }\n",
       "</style>\n",
       "<table border=\"1\" class=\"dataframe\">\n",
       "  <thead>\n",
       "    <tr style=\"text-align: right;\">\n",
       "      <th></th>\n",
       "      <th>name</th>\n",
       "      <th>mark</th>\n",
       "    </tr>\n",
       "  </thead>\n",
       "  <tbody>\n",
       "    <tr>\n",
       "      <th>0</th>\n",
       "      <td>Arnold</td>\n",
       "      <td>55</td>\n",
       "    </tr>\n",
       "    <tr>\n",
       "      <th>1</th>\n",
       "      <td>Alex John</td>\n",
       "      <td>55</td>\n",
       "    </tr>\n",
       "    <tr>\n",
       "      <th>2</th>\n",
       "      <td>Asruid</td>\n",
       "      <td>85</td>\n",
       "    </tr>\n",
       "  </tbody>\n",
       "</table>\n",
       "</div>"
      ],
      "text/plain": [
       "        name  mark\n",
       "0     Arnold    55\n",
       "1  Alex John    55\n",
       "2     Asruid    85"
      ]
     },
     "execution_count": 7,
     "metadata": {},
     "output_type": "execute_result"
    }
   ],
   "source": [
    "query1 = \"\"\"\n",
    "SELECT \n",
    "name,\n",
    "mark \n",
    "FROM student \n",
    "WHERE name LIKE 'A%' AND mark > 50;\n",
    "\"\"\"\n",
    "student_records_df = db.execute_query(query1)\n",
    "student_records_df"
   ]
  },
  {
   "cell_type": "code",
   "execution_count": 8,
   "id": "5ad24cd0-8a57-4745-86ba-ff347c3a6b0f",
   "metadata": {},
   "outputs": [
    {
     "data": {
      "text/html": [
       "<div>\n",
       "<style scoped>\n",
       "    .dataframe tbody tr th:only-of-type {\n",
       "        vertical-align: middle;\n",
       "    }\n",
       "\n",
       "    .dataframe tbody tr th {\n",
       "        vertical-align: top;\n",
       "    }\n",
       "\n",
       "    .dataframe thead th {\n",
       "        text-align: right;\n",
       "    }\n",
       "</style>\n",
       "<table border=\"1\" class=\"dataframe\">\n",
       "  <thead>\n",
       "    <tr style=\"text-align: right;\">\n",
       "      <th></th>\n",
       "      <th>gender</th>\n",
       "      <th>avg_mark</th>\n",
       "    </tr>\n",
       "  </thead>\n",
       "  <tbody>\n",
       "    <tr>\n",
       "      <th>0</th>\n",
       "      <td>female</td>\n",
       "      <td>77.5294</td>\n",
       "    </tr>\n",
       "    <tr>\n",
       "      <th>1</th>\n",
       "      <td>male</td>\n",
       "      <td>72.1500</td>\n",
       "    </tr>\n",
       "  </tbody>\n",
       "</table>\n",
       "</div>"
      ],
      "text/plain": [
       "   gender avg_mark\n",
       "0  female  77.5294\n",
       "1    male  72.1500"
      ]
     },
     "execution_count": 8,
     "metadata": {},
     "output_type": "execute_result"
    }
   ],
   "source": [
    "query1 = \"\"\"\n",
    "SELECT gender,\n",
    "AVG(mark) AS avg_mark\n",
    "FROM student\n",
    "GROUP BY gender;\n",
    "\"\"\"\n",
    "student_records_df = db.execute_query(query1)\n",
    "student_records_df"
   ]
  },
  {
   "cell_type": "code",
   "execution_count": 9,
   "id": "39d4b47c-0e3e-43a0-9b5f-62c878e49c2d",
   "metadata": {},
   "outputs": [
    {
     "data": {
      "text/html": [
       "<div>\n",
       "<style scoped>\n",
       "    .dataframe tbody tr th:only-of-type {\n",
       "        vertical-align: middle;\n",
       "    }\n",
       "\n",
       "    .dataframe tbody tr th {\n",
       "        vertical-align: top;\n",
       "    }\n",
       "\n",
       "    .dataframe thead th {\n",
       "        text-align: right;\n",
       "    }\n",
       "</style>\n",
       "<table border=\"1\" class=\"dataframe\">\n",
       "  <thead>\n",
       "    <tr style=\"text-align: right;\">\n",
       "      <th></th>\n",
       "      <th>class</th>\n",
       "      <th>max_mark</th>\n",
       "    </tr>\n",
       "  </thead>\n",
       "  <tbody>\n",
       "    <tr>\n",
       "      <th>0</th>\n",
       "      <td>Four</td>\n",
       "      <td>88</td>\n",
       "    </tr>\n",
       "    <tr>\n",
       "      <th>1</th>\n",
       "      <td>Three</td>\n",
       "      <td>85</td>\n",
       "    </tr>\n",
       "    <tr>\n",
       "      <th>2</th>\n",
       "      <td>Five</td>\n",
       "      <td>85</td>\n",
       "    </tr>\n",
       "    <tr>\n",
       "      <th>3</th>\n",
       "      <td>Six</td>\n",
       "      <td>96</td>\n",
       "    </tr>\n",
       "    <tr>\n",
       "      <th>4</th>\n",
       "      <td>Seven</td>\n",
       "      <td>90</td>\n",
       "    </tr>\n",
       "  </tbody>\n",
       "</table>\n",
       "</div>"
      ],
      "text/plain": [
       "   class  max_mark\n",
       "0   Four        88\n",
       "1  Three        85\n",
       "2   Five        85\n",
       "3    Six        96\n",
       "4  Seven        90"
      ]
     },
     "execution_count": 9,
     "metadata": {},
     "output_type": "execute_result"
    }
   ],
   "source": [
    "query1 =\"\"\"\n",
    "SELECT class,\n",
    "MAX(mark) AS max_mark\n",
    "FROM student\n",
    "GROUP BY class\n",
    "HAVING max_mark > 80;\n",
    "\"\"\"\n",
    "student_records_df = db.execute_query(query1)\n",
    "student_records_df"
   ]
  },
  {
   "cell_type": "code",
   "execution_count": 10,
   "id": "edf90d23-59df-4a7e-8e76-eb2fea3f39b2",
   "metadata": {},
   "outputs": [
    {
     "data": {
      "text/html": [
       "<div>\n",
       "<style scoped>\n",
       "    .dataframe tbody tr th:only-of-type {\n",
       "        vertical-align: middle;\n",
       "    }\n",
       "\n",
       "    .dataframe tbody tr th {\n",
       "        vertical-align: top;\n",
       "    }\n",
       "\n",
       "    .dataframe thead th {\n",
       "        text-align: right;\n",
       "    }\n",
       "</style>\n",
       "<table border=\"1\" class=\"dataframe\">\n",
       "  <thead>\n",
       "    <tr style=\"text-align: right;\">\n",
       "      <th></th>\n",
       "      <th>class</th>\n",
       "      <th>max_mark</th>\n",
       "    </tr>\n",
       "  </thead>\n",
       "  <tbody>\n",
       "    <tr>\n",
       "      <th>0</th>\n",
       "      <td>Four</td>\n",
       "      <td>88</td>\n",
       "    </tr>\n",
       "    <tr>\n",
       "      <th>1</th>\n",
       "      <td>Three</td>\n",
       "      <td>85</td>\n",
       "    </tr>\n",
       "    <tr>\n",
       "      <th>2</th>\n",
       "      <td>Five</td>\n",
       "      <td>85</td>\n",
       "    </tr>\n",
       "    <tr>\n",
       "      <th>3</th>\n",
       "      <td>Six</td>\n",
       "      <td>96</td>\n",
       "    </tr>\n",
       "    <tr>\n",
       "      <th>4</th>\n",
       "      <td>Seven</td>\n",
       "      <td>90</td>\n",
       "    </tr>\n",
       "  </tbody>\n",
       "</table>\n",
       "</div>"
      ],
      "text/plain": [
       "   class  max_mark\n",
       "0   Four        88\n",
       "1  Three        85\n",
       "2   Five        85\n",
       "3    Six        96\n",
       "4  Seven        90"
      ]
     },
     "execution_count": 10,
     "metadata": {},
     "output_type": "execute_result"
    }
   ],
   "source": [
    "query1 =\"\"\"\n",
    "SELECT class,\n",
    "MAX(mark) AS max_mark\n",
    "FROM student\n",
    "GROUP BY class\n",
    "HAVING max_mark > 80;\n",
    "\"\"\"\n",
    "student_records_df = db.execute_query(query1)\n",
    "student_records_df"
   ]
  },
  {
   "cell_type": "markdown",
   "id": "b957eb3f-e553-4652-bd44-3dac0b84e359",
   "metadata": {},
   "source": [
    "- this is just an overview and working of the sql SELECT Query you can try it from your own"
   ]
  },
  {
   "cell_type": "markdown",
   "id": "4229bc0b-b9dc-4126-a619-e69787a02606",
   "metadata": {},
   "source": [
    "##"
   ]
  },
  {
   "cell_type": "markdown",
   "id": "3f7ce6be-87da-448c-8bb0-419652e89724",
   "metadata": {},
   "source": [
    "### More Common CRUD Operations"
   ]
  },
  {
   "cell_type": "markdown",
   "id": "d2d19ade-2c86-4130-aa84-2631469fa6e1",
   "metadata": {},
   "source": [
    "#### Insert Data"
   ]
  },
  {
   "cell_type": "code",
   "execution_count": 11,
   "id": "0f898a51-7372-4648-add8-3beda92cc2a2",
   "metadata": {},
   "outputs": [
    {
     "name": "stdout",
     "output_type": "stream",
     "text": [
      "Record inserted successfully\n"
     ]
    }
   ],
   "source": [
    "insert_query = \"\"\"\n",
    "INSERT INTO student (id, name, class, mark, gender)\n",
    "VALUES (38, 'jacob', 'Four', 56, 'male'),\n",
    "       (39, 'Samantha', 'Six', 79, 'female');\n",
    "\"\"\"\n",
    "db.insert_record(insert_query)"
   ]
  },
  {
   "cell_type": "markdown",
   "id": "270a4c76-3b45-4fbf-871d-1bab41bd757f",
   "metadata": {},
   "source": [
    "#### Update data"
   ]
  },
  {
   "cell_type": "code",
   "execution_count": 12,
   "id": "8ae7b5fd-4c52-4d2e-9780-0b6383c6ecd5",
   "metadata": {},
   "outputs": [
    {
     "name": "stdout",
     "output_type": "stream",
     "text": [
      "Record updated successfully\n"
     ]
    }
   ],
   "source": [
    "query3 = \"UPDATE student SET mark = 35 WHERE id = 1\"\n",
    "db.update_record(query3)"
   ]
  },
  {
   "cell_type": "markdown",
   "id": "e76fdf62-0910-4462-a6f9-78c51ffaa6f0",
   "metadata": {},
   "source": [
    "#### Delete data"
   ]
  },
  {
   "cell_type": "code",
   "execution_count": 13,
   "id": "53554c8a-8024-4762-8bfd-623b28600605",
   "metadata": {},
   "outputs": [
    {
     "name": "stdout",
     "output_type": "stream",
     "text": [
      "Record deleted successfully\n"
     ]
    }
   ],
   "source": [
    "query4 = \"DELETE FROM student WHERE id in (38,39)\"\n",
    "db.delete_record(query4)"
   ]
  },
  {
   "cell_type": "markdown",
   "id": "faaa2575-0bf1-4240-8ccd-6816a357b1ba",
   "metadata": {},
   "source": [
    "## "
   ]
  },
  {
   "cell_type": "markdown",
   "id": "d2f15715-b7b0-4a6c-a3d8-675ffad7c168",
   "metadata": {},
   "source": [
    "### Some other commonly used Operations"
   ]
  },
  {
   "cell_type": "markdown",
   "id": "855fffff-701e-441c-8b92-0b1803d53e23",
   "metadata": {},
   "source": [
    "#### Alter Table"
   ]
  },
  {
   "cell_type": "code",
   "execution_count": 14,
   "id": "58f20094-76de-4e45-932a-9c6c671b0d4a",
   "metadata": {},
   "outputs": [
    {
     "name": "stdout",
     "output_type": "stream",
     "text": [
      "Alter executed successfully\n"
     ]
    }
   ],
   "source": [
    "query5 = \"ALTER TABLE student ADD COLUMN email VARCHAR(255)\"\n",
    "db.execute_alter(query5)"
   ]
  },
  {
   "cell_type": "markdown",
   "id": "b158c803-51de-4957-95c8-4b13b976280b",
   "metadata": {},
   "source": [
    "#### Modify table"
   ]
  },
  {
   "cell_type": "code",
   "execution_count": 16,
   "id": "9c22beb9-974d-4bc2-b20e-9fc3ccd84939",
   "metadata": {},
   "outputs": [
    {
     "name": "stdout",
     "output_type": "stream",
     "text": [
      "Modify executed successfully\n"
     ]
    }
   ],
   "source": [
    "query8 = \"ALTER TABLE student MODIFY mark INT\"\n",
    "db.execute_modify(query8)"
   ]
  },
  {
   "cell_type": "markdown",
   "id": "d9085a81-1ed4-4129-81b1-f0f81f61412b",
   "metadata": {},
   "source": [
    "#### Truncate table"
   ]
  },
  {
   "cell_type": "code",
   "execution_count": 17,
   "id": "11143f45-d5e6-4062-8196-86c2a9d2fd2e",
   "metadata": {},
   "outputs": [
    {
     "data": {
      "text/html": [
       "<div>\n",
       "<style scoped>\n",
       "    .dataframe tbody tr th:only-of-type {\n",
       "        vertical-align: middle;\n",
       "    }\n",
       "\n",
       "    .dataframe tbody tr th {\n",
       "        vertical-align: top;\n",
       "    }\n",
       "\n",
       "    .dataframe thead th {\n",
       "        text-align: right;\n",
       "    }\n",
       "</style>\n",
       "<table border=\"1\" class=\"dataframe\">\n",
       "  <thead>\n",
       "    <tr style=\"text-align: right;\">\n",
       "      <th></th>\n",
       "    </tr>\n",
       "  </thead>\n",
       "  <tbody>\n",
       "  </tbody>\n",
       "</table>\n",
       "</div>"
      ],
      "text/plain": [
       "Empty DataFrame\n",
       "Columns: []\n",
       "Index: []"
      ]
     },
     "execution_count": 17,
     "metadata": {},
     "output_type": "execute_result"
    }
   ],
   "source": [
    "query_temp_truncate = \"TRUNCATE TABLE temp_table\"\n",
    "db.execute_query(query_temp_truncate)"
   ]
  },
  {
   "cell_type": "markdown",
   "id": "4e4b2c87-d2a8-49b7-9a74-bca07851750f",
   "metadata": {},
   "source": [
    "#### Drop table"
   ]
  },
  {
   "cell_type": "code",
   "execution_count": 18,
   "id": "c3f591fc-d09a-4d01-98eb-42d136f78c17",
   "metadata": {},
   "outputs": [
    {
     "data": {
      "text/html": [
       "<div>\n",
       "<style scoped>\n",
       "    .dataframe tbody tr th:only-of-type {\n",
       "        vertical-align: middle;\n",
       "    }\n",
       "\n",
       "    .dataframe tbody tr th {\n",
       "        vertical-align: top;\n",
       "    }\n",
       "\n",
       "    .dataframe thead th {\n",
       "        text-align: right;\n",
       "    }\n",
       "</style>\n",
       "<table border=\"1\" class=\"dataframe\">\n",
       "  <thead>\n",
       "    <tr style=\"text-align: right;\">\n",
       "      <th></th>\n",
       "    </tr>\n",
       "  </thead>\n",
       "  <tbody>\n",
       "  </tbody>\n",
       "</table>\n",
       "</div>"
      ],
      "text/plain": [
       "Empty DataFrame\n",
       "Columns: []\n",
       "Index: []"
      ]
     },
     "execution_count": 18,
     "metadata": {},
     "output_type": "execute_result"
    }
   ],
   "source": [
    "query_temp_drop = \"DROP TABLE IF EXISTS temp_table\"\n",
    "db.execute_query(query_temp_drop)"
   ]
  },
  {
   "cell_type": "markdown",
   "id": "5140c4e7-2a91-4aa5-af27-304ce18fd41c",
   "metadata": {},
   "source": [
    "## "
   ]
  },
  {
   "cell_type": "markdown",
   "id": "96ea3454-ddc0-453f-83e0-afe5fde40f42",
   "metadata": {},
   "source": [
    "### Disconnect from the MySQL database"
   ]
  },
  {
   "cell_type": "code",
   "execution_count": 19,
   "id": "6b738b8a-0cdf-4f28-9109-06819a14fee7",
   "metadata": {},
   "outputs": [
    {
     "name": "stdout",
     "output_type": "stream",
     "text": [
      "Disconnected from the MySQL database\n"
     ]
    }
   ],
   "source": [
    "db.disconnect()"
   ]
  },
  {
   "cell_type": "markdown",
   "id": "8be6b8bc-3d5d-4565-a608-802cb7a7c2c6",
   "metadata": {},
   "source": [
    "## "
   ]
  },
  {
   "cell_type": "markdown",
   "id": "2e184960-be3e-4548-83bf-9ff03371af4a",
   "metadata": {},
   "source": [
    "### Important Notes\n",
    "- Package does not proceed to have all the features which official mysql package has, This is the first release and in future more features will be added till then happy coding"
   ]
  },
  {
   "cell_type": "code",
   "execution_count": null,
   "id": "34d18cf6-a6e7-4d88-855a-5447183c9484",
   "metadata": {},
   "outputs": [],
   "source": []
  }
 ],
 "metadata": {
  "kernelspec": {
   "display_name": "Python 3 (ipykernel)",
   "language": "python",
   "name": "python3"
  },
  "language_info": {
   "codemirror_mode": {
    "name": "ipython",
    "version": 3
   },
   "file_extension": ".py",
   "mimetype": "text/x-python",
   "name": "python",
   "nbconvert_exporter": "python",
   "pygments_lexer": "ipython3",
   "version": "3.11.6"
  }
 },
 "nbformat": 4,
 "nbformat_minor": 5
}
